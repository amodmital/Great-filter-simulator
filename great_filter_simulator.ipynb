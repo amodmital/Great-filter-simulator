{
 "cells": [
  {
   "cell_type": "code",
   "execution_count": 3,
   "metadata": {
    "collapsed": true
   },
   "outputs": [],
   "source": [
    "#simulator to evaluate the possibility of life interacting before and after a theoritical great filter.\n",
    "# inspired by https://youtu.be/UjtOGPJ0URM"
   ]
  },
  {
   "cell_type": "code",
   "execution_count": 9,
   "metadata": {
    "collapsed": true
   },
   "outputs": [],
   "source": [
    "#importing libraries\n",
    "import random\n",
    "import pandas as pd"
   ]
  },
  {
   "cell_type": "code",
   "execution_count": 100,
   "metadata": {},
   "outputs": [],
   "source": [
    "# Initializing simulator configuration\n",
    "\n",
    "number_sim_runs = 10\n",
    "p_life = 0.30\n",
    "great_filter = 3\n",
    "p_evolution = 0.80\n",
    "p_gf_evolution = 0.01\n"
   ]
  },
  {
   "cell_type": "code",
   "execution_count": 71,
   "metadata": {},
   "outputs": [
    {
     "data": {
      "text/plain": [
       "0"
      ]
     },
     "execution_count": 71,
     "metadata": {},
     "output_type": "execute_result"
    }
   ],
   "source": [
    "#initilizing system vairables\n",
    "\n",
    "nl = []\n",
    "#list of new  life\n",
    "#first variable, index of new life, starting with 1\n",
    "#second variable, simulation generation in which in evolved\n",
    "\n",
    "\n",
    "len(nl)"
   ]
  },
  {
   "cell_type": "code",
   "execution_count": 107,
   "metadata": {},
   "outputs": [
    {
     "name": "stdout",
     "output_type": "stream",
     "text": [
      "1 0.28\n",
      "generation # 1 produces life\n",
      "state of nl is [[1, 1, 1]]\n",
      "life # 1 evolves as random # is 0.17\n",
      "2 0.59\n",
      "state of nl is [[1, 1, 2]]\n",
      "3 0.99\n",
      "state of nl is [[1, 1, 2]]\n",
      "life # 1 evolves as random # is 0.57\n",
      "4 0.91\n",
      "state of nl is [[1, 1, 3]]\n",
      "life # 1 evolves as random # is 0.67\n",
      "5 1.0\n",
      "state of nl is [[1, 1, 4]]\n",
      "6 0.36\n",
      "state of nl is [[1, 1, 4]]\n",
      "life # 1 evolves as random # is 0.45\n",
      "7 0.42\n",
      "state of nl is [[1, 1, 5]]\n",
      "life # 1 evolves as random # is 0.76\n",
      "8 0.5\n",
      "state of nl is [[1, 1, 6]]\n",
      "life # 1 evolves as random # is 0.46\n",
      "9 0.43\n",
      "state of nl is [[1, 1, 7]]\n",
      "life # 1 evolves as random # is 0.7\n",
      "10 0.8\n",
      "state of nl is [[1, 1, 8]]\n",
      "life # 1 evolves as random # is 0.77\n"
     ]
    }
   ],
   "source": [
    "#simulator iteration\n",
    "\n",
    "nl = []\n",
    "for x in range(1,number_sim_runs+1):\n",
    "    xx= random.randint(1,100)/100\n",
    "    print(x,xx)\n",
    "    if xx <= p_life:\n",
    "        print(\"generation #\",x,\"produces life\")\n",
    "        nl.append([len(nl)+1,x,1])\n",
    "    if len(nl) != 0: \n",
    "        print(\"state of nl is\", nl)\n",
    "        for y in range(0,len(nl)):\n",
    "            yy= random.randint(1,100)/100  \n",
    "            if yy <= p_evolution:\n",
    "                print(\"life #\",nl[y][0],\"evolves as random # is\",yy)\n",
    "                nl[y][2] = nl[y][2]+1\n",
    "                \n",
    "            \n",
    "    \n",
    "        "
   ]
  },
  {
   "cell_type": "code",
   "execution_count": 108,
   "metadata": {},
   "outputs": [
    {
     "name": "stdout",
     "output_type": "stream",
     "text": [
      "1\n",
      "[[1, 1, 9]]\n"
     ]
    }
   ],
   "source": [
    "print(len(nl))\n",
    "print(nl)"
   ]
  },
  {
   "cell_type": "code",
   "execution_count": null,
   "metadata": {
    "collapsed": true
   },
   "outputs": [],
   "source": []
  },
  {
   "cell_type": "code",
   "execution_count": null,
   "metadata": {
    "collapsed": true
   },
   "outputs": [],
   "source": []
  }
 ],
 "metadata": {
  "kernelspec": {
   "display_name": "Python 3",
   "language": "python",
   "name": "python3"
  },
  "language_info": {
   "codemirror_mode": {
    "name": "ipython",
    "version": 3
   },
   "file_extension": ".py",
   "mimetype": "text/x-python",
   "name": "python",
   "nbconvert_exporter": "python",
   "pygments_lexer": "ipython3",
   "version": "3.6.1"
  }
 },
 "nbformat": 4,
 "nbformat_minor": 2
}
