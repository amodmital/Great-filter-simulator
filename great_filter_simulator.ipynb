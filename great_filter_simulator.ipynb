{
 "cells": [
  {
   "cell_type": "code",
   "execution_count": 3,
   "metadata": {
    "collapsed": true
   },
   "outputs": [],
   "source": [
    "#simulator to evaluate the possibility of life interacting before and after a theoritical great filter.\n",
    "# inspired by https://youtu.be/UjtOGPJ0URM"
   ]
  },
  {
   "cell_type": "code",
   "execution_count": 9,
   "metadata": {
    "collapsed": true
   },
   "outputs": [],
   "source": [
    "#importing libraries\n",
    "import random\n",
    "import pandas as pd"
   ]
  },
  {
   "cell_type": "code",
   "execution_count": 63,
   "metadata": {},
   "outputs": [],
   "source": [
    "# Initializing simulator configuration\n",
    "\n",
    "number_sim_runs = 10\n",
    "p_life = 0.30\n",
    "great_filter = 3\n",
    "p_evolution = 0.5\n",
    "p_gf_evolution = 0.01\n"
   ]
  },
  {
   "cell_type": "code",
   "execution_count": 64,
   "metadata": {},
   "outputs": [],
   "source": [
    "#initilizing system vairables\n",
    "\n",
    "nl = []\n",
    "#list of new  life\n",
    "#first variable, index of new life, starting with 1\n",
    "#second variable, simulation generation in which in evolved\n",
    "\n",
    "#"
   ]
  },
  {
   "cell_type": "code",
   "execution_count": 65,
   "metadata": {},
   "outputs": [
    {
     "name": "stdout",
     "output_type": "stream",
     "text": [
      "1 0.79\n",
      "2 0.44\n",
      "3 0.45\n",
      "4 0.46\n",
      "5 0.27\n",
      "6 0.29\n",
      "7 0.81\n",
      "8 0.41\n",
      "9 0.15\n"
     ]
    }
   ],
   "source": [
    "#simulator iteration\n",
    "\n",
    "for x in range(1,number_sim_runs):\n",
    "    zz= random.randint(1,100)/100\n",
    "    print(x,zz)\n",
    "    if zz >= 1-p_life:\n",
    "        nl.append((len(nl)+1,x))\n",
    "\n",
    "    \n",
    "        "
   ]
  },
  {
   "cell_type": "code",
   "execution_count": 67,
   "metadata": {},
   "outputs": [
    {
     "name": "stdout",
     "output_type": "stream",
     "text": [
      "2\n",
      "[(1, 1), (2, 7)]\n"
     ]
    }
   ],
   "source": [
    "print(len(nl))\n",
    "print(nl)"
   ]
  },
  {
   "cell_type": "code",
   "execution_count": 40,
   "metadata": {
    "collapsed": true
   },
   "outputs": [],
   "source": []
  },
  {
   "cell_type": "code",
   "execution_count": null,
   "metadata": {
    "collapsed": true
   },
   "outputs": [],
   "source": []
  }
 ],
 "metadata": {
  "kernelspec": {
   "display_name": "Python 3",
   "language": "python",
   "name": "python3"
  },
  "language_info": {
   "codemirror_mode": {
    "name": "ipython",
    "version": 3
   },
   "file_extension": ".py",
   "mimetype": "text/x-python",
   "name": "python",
   "nbconvert_exporter": "python",
   "pygments_lexer": "ipython3",
   "version": "3.6.1"
  }
 },
 "nbformat": 4,
 "nbformat_minor": 2
}
